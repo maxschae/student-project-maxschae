{
 "cells": [
  {
   "cell_type": "markdown",
   "metadata": {},
   "source": [
    "## Student Project"
   ]
  },
  {
   "cell_type": "markdown",
   "metadata": {},
   "source": [
    "In this notebook the following paper is replicated: M. Brückner and A. Ciccone (2011) \"Rain and the Democratic Window of Opportunity\", *Econometrica*, Vol. 79, pp. 923-947."
   ]
  },
  {
   "cell_type": "markdown",
   "metadata": {},
   "source": [
    "*Accessible in this [classroom](https://github.com/HumanCapitalAnalysis/student-project-maxschae)*."
   ]
  },
  {
   "cell_type": "code",
   "execution_count": 1,
   "metadata": {},
   "outputs": [],
   "source": [
    "#todo: use environment file\n",
    "\n",
    "import numpy as np\n",
    "import pandas as pd\n",
    "import matplotlib.pyplot as plt\n",
    "import seaborn as sns\n",
    "\n",
    "import statsmodels.formula.api as smf\n",
    "\n",
    "%matplotlib inline"
   ]
  },
  {
   "cell_type": "markdown",
   "metadata": {},
   "source": [
    "#### Story\n",
    "\n",
    "The authors claim that temporary negative shocks to income cause institutions in sub-Saharan Africa to become more democratic. Accordingly, negative income shocks decrease the opportunity cost of contesting political power, and to retain stability and command the ruling regime will employ more democratic institutions. Since income per capita and institutions are likely to have unobserved common causes an instrumental variable approach is taken to isolate the variation in income that is exogenous. The instrument is rainfall which is assumed to cause variation in income per capita ($\\rightarrow$ IV is relevant), whereas is not correlated with institutional scores (exogeneity assumption) and its only effect on institutions is through income (exclusive restriction assumption). Rainfall affects GDP per capita mainly by increasing the yield in agricultural production, for instance, droughts will have a negative impact on GDP per capita.\n",
    "\n",
    "The story (and this notebook) unfolds along the two stages of the estimation framework. First, to isolate the exogenous variation in income per capita, GDP per capita is related to rainfall. In the second stage, democracy score(s) are then regressed on the clean variation in income. However, first data are introduced and the identification strategy is discussed in greater detail."
   ]
  },
  {
   "cell_type": "markdown",
   "metadata": {},
   "source": [
    "#### Data\n",
    "\n",
    "Panel data: 41 sub-Saharan African countries between 1981 to 2004 (unbalanced) $-$ 955 observations\n",
    "\n",
    "* Institutional scores available from the Polity IV Project (Center for Global Policy, George Mason University)\n",
    "\n",
    "* Rainfall is taken from the National Aeronautics and Space Administration (NASA) Global Precipitation Climatology Project (GPCP)\n",
    "\n",
    "* GDP per capita data come from the Penn World Table Version 6.2 (Center for International Comparisons of Production, Income and Prices, University of Pennsylvania)"
   ]
  },
  {
   "cell_type": "code",
   "execution_count": 2,
   "metadata": {},
   "outputs": [],
   "source": [
    "def get_panel_datasets():\n",
    "    dataset = \"data/database.dta\"\n",
    "    df_initial = pd.read_stata(dataset)    \n",
    "    index = list()\n",
    "    for i in range(len(df_initial)):\n",
    "        index.append((df_initial.iloc[i]['ccode'], df_initial.iloc[i]['year']))\n",
    "    index = pd.MultiIndex.from_tuples(index, names=('country_index', 'year_index'))\n",
    "    df_initial.index = index\n",
    "    df = df_initial.dropna(axis=0, subset=['polity2'])\n",
    "    return df, df_initial\n",
    "\n",
    "df, df_initial = get_panel_datasets()"
   ]
  },
  {
   "cell_type": "code",
   "execution_count": 3,
   "metadata": {},
   "outputs": [
    {
     "data": {
      "text/html": [
       "<div>\n",
       "<style scoped>\n",
       "    .dataframe tbody tr th:only-of-type {\n",
       "        vertical-align: middle;\n",
       "    }\n",
       "\n",
       "    .dataframe tbody tr th {\n",
       "        vertical-align: top;\n",
       "    }\n",
       "\n",
       "    .dataframe thead th {\n",
       "        text-align: right;\n",
       "    }\n",
       "</style>\n",
       "<table border=\"1\" class=\"dataframe\">\n",
       "  <thead>\n",
       "    <tr style=\"text-align: right;\">\n",
       "      <th></th>\n",
       "      <th></th>\n",
       "      <th>country</th>\n",
       "      <th>countryisocode</th>\n",
       "      <th>year</th>\n",
       "      <th>ccode</th>\n",
       "      <th>polity2</th>\n",
       "      <th>polity2l</th>\n",
       "      <th>polity2l2</th>\n",
       "      <th>polity_d</th>\n",
       "      <th>polity</th>\n",
       "      <th>exconst</th>\n",
       "      <th>...</th>\n",
       "      <th>dum_rain_10</th>\n",
       "      <th>dum_rain_20</th>\n",
       "      <th>agri_gdpshare</th>\n",
       "      <th>agri_gdp_av</th>\n",
       "      <th>gdp_l2</th>\n",
       "      <th>rain_mw_l</th>\n",
       "      <th>rain_mw_l3</th>\n",
       "      <th>rain_mw_l4</th>\n",
       "      <th>rain_mw_l2</th>\n",
       "      <th>rain_mw</th>\n",
       "    </tr>\n",
       "    <tr>\n",
       "      <th>country_index</th>\n",
       "      <th>year_index</th>\n",
       "      <th></th>\n",
       "      <th></th>\n",
       "      <th></th>\n",
       "      <th></th>\n",
       "      <th></th>\n",
       "      <th></th>\n",
       "      <th></th>\n",
       "      <th></th>\n",
       "      <th></th>\n",
       "      <th></th>\n",
       "      <th></th>\n",
       "      <th></th>\n",
       "      <th></th>\n",
       "      <th></th>\n",
       "      <th></th>\n",
       "      <th></th>\n",
       "      <th></th>\n",
       "      <th></th>\n",
       "      <th></th>\n",
       "      <th></th>\n",
       "      <th></th>\n",
       "    </tr>\n",
       "  </thead>\n",
       "  <tbody>\n",
       "    <tr>\n",
       "      <th rowspan=\"5\" valign=\"top\">404</th>\n",
       "      <th>1981</th>\n",
       "      <td>Guinea-Bissau</td>\n",
       "      <td>GNB</td>\n",
       "      <td>1981</td>\n",
       "      <td>404</td>\n",
       "      <td>-7.0</td>\n",
       "      <td>-7.0</td>\n",
       "      <td>-7.0</td>\n",
       "      <td>0.0</td>\n",
       "      <td>-7</td>\n",
       "      <td>3.0</td>\n",
       "      <td>...</td>\n",
       "      <td>0</td>\n",
       "      <td>1</td>\n",
       "      <td>53.279999</td>\n",
       "      <td>53.743752</td>\n",
       "      <td>338.047333</td>\n",
       "      <td>1323.417725</td>\n",
       "      <td>1796.730103</td>\n",
       "      <td>1222.450684</td>\n",
       "      <td>1343.365479</td>\n",
       "      <td>1711.137573</td>\n",
       "    </tr>\n",
       "    <tr>\n",
       "      <th>1982</th>\n",
       "      <td>Guinea-Bissau</td>\n",
       "      <td>GNB</td>\n",
       "      <td>1982</td>\n",
       "      <td>404</td>\n",
       "      <td>-7.0</td>\n",
       "      <td>-7.0</td>\n",
       "      <td>-7.0</td>\n",
       "      <td>0.0</td>\n",
       "      <td>-7</td>\n",
       "      <td>3.0</td>\n",
       "      <td>...</td>\n",
       "      <td>1</td>\n",
       "      <td>1</td>\n",
       "      <td>46.770000</td>\n",
       "      <td>53.743752</td>\n",
       "      <td>313.258240</td>\n",
       "      <td>1711.137573</td>\n",
       "      <td>1343.365234</td>\n",
       "      <td>1796.730103</td>\n",
       "      <td>1323.417969</td>\n",
       "      <td>1469.449951</td>\n",
       "    </tr>\n",
       "    <tr>\n",
       "      <th>1983</th>\n",
       "      <td>Guinea-Bissau</td>\n",
       "      <td>GNB</td>\n",
       "      <td>1983</td>\n",
       "      <td>404</td>\n",
       "      <td>-7.0</td>\n",
       "      <td>-7.0</td>\n",
       "      <td>-7.0</td>\n",
       "      <td>0.0</td>\n",
       "      <td>-7</td>\n",
       "      <td>3.0</td>\n",
       "      <td>...</td>\n",
       "      <td>0</td>\n",
       "      <td>0</td>\n",
       "      <td>42.450001</td>\n",
       "      <td>53.743752</td>\n",
       "      <td>417.014160</td>\n",
       "      <td>1469.449951</td>\n",
       "      <td>1323.417725</td>\n",
       "      <td>1343.365234</td>\n",
       "      <td>1711.137939</td>\n",
       "      <td>1342.599365</td>\n",
       "    </tr>\n",
       "    <tr>\n",
       "      <th>1984</th>\n",
       "      <td>Guinea-Bissau</td>\n",
       "      <td>GNB</td>\n",
       "      <td>1984</td>\n",
       "      <td>404</td>\n",
       "      <td>-8.0</td>\n",
       "      <td>-7.0</td>\n",
       "      <td>-7.0</td>\n",
       "      <td>0.0</td>\n",
       "      <td>-8</td>\n",
       "      <td>2.0</td>\n",
       "      <td>...</td>\n",
       "      <td>0</td>\n",
       "      <td>0</td>\n",
       "      <td>41.320000</td>\n",
       "      <td>53.743752</td>\n",
       "      <td>409.886810</td>\n",
       "      <td>1342.599365</td>\n",
       "      <td>1711.137573</td>\n",
       "      <td>1323.417725</td>\n",
       "      <td>1469.450073</td>\n",
       "      <td>1348.143433</td>\n",
       "    </tr>\n",
       "    <tr>\n",
       "      <th>1985</th>\n",
       "      <td>Guinea-Bissau</td>\n",
       "      <td>GNB</td>\n",
       "      <td>1985</td>\n",
       "      <td>404</td>\n",
       "      <td>-8.0</td>\n",
       "      <td>-8.0</td>\n",
       "      <td>-7.0</td>\n",
       "      <td>0.0</td>\n",
       "      <td>-8</td>\n",
       "      <td>2.0</td>\n",
       "      <td>...</td>\n",
       "      <td>1</td>\n",
       "      <td>1</td>\n",
       "      <td>46.490002</td>\n",
       "      <td>53.743752</td>\n",
       "      <td>450.310425</td>\n",
       "      <td>1348.143433</td>\n",
       "      <td>1469.449951</td>\n",
       "      <td>1711.137573</td>\n",
       "      <td>1342.599609</td>\n",
       "      <td>1400.806152</td>\n",
       "    </tr>\n",
       "  </tbody>\n",
       "</table>\n",
       "<p>5 rows × 116 columns</p>\n",
       "</div>"
      ],
      "text/plain": [
       "                                country countryisocode  year  ccode  polity2  \\\n",
       "country_index year_index                                                       \n",
       "404           1981        Guinea-Bissau            GNB  1981    404     -7.0   \n",
       "              1982        Guinea-Bissau            GNB  1982    404     -7.0   \n",
       "              1983        Guinea-Bissau            GNB  1983    404     -7.0   \n",
       "              1984        Guinea-Bissau            GNB  1984    404     -8.0   \n",
       "              1985        Guinea-Bissau            GNB  1985    404     -8.0   \n",
       "\n",
       "                          polity2l  polity2l2  polity_d  polity  exconst  ...  \\\n",
       "country_index year_index                                                  ...   \n",
       "404           1981            -7.0       -7.0       0.0      -7      3.0  ...   \n",
       "              1982            -7.0       -7.0       0.0      -7      3.0  ...   \n",
       "              1983            -7.0       -7.0       0.0      -7      3.0  ...   \n",
       "              1984            -7.0       -7.0       0.0      -8      2.0  ...   \n",
       "              1985            -8.0       -7.0       0.0      -8      2.0  ...   \n",
       "\n",
       "                          dum_rain_10  dum_rain_20  agri_gdpshare  \\\n",
       "country_index year_index                                            \n",
       "404           1981                  0            1      53.279999   \n",
       "              1982                  1            1      46.770000   \n",
       "              1983                  0            0      42.450001   \n",
       "              1984                  0            0      41.320000   \n",
       "              1985                  1            1      46.490002   \n",
       "\n",
       "                          agri_gdp_av      gdp_l2    rain_mw_l   rain_mw_l3  \\\n",
       "country_index year_index                                                      \n",
       "404           1981          53.743752  338.047333  1323.417725  1796.730103   \n",
       "              1982          53.743752  313.258240  1711.137573  1343.365234   \n",
       "              1983          53.743752  417.014160  1469.449951  1323.417725   \n",
       "              1984          53.743752  409.886810  1342.599365  1711.137573   \n",
       "              1985          53.743752  450.310425  1348.143433  1469.449951   \n",
       "\n",
       "                           rain_mw_l4   rain_mw_l2      rain_mw  \n",
       "country_index year_index                                         \n",
       "404           1981        1222.450684  1343.365479  1711.137573  \n",
       "              1982        1796.730103  1323.417969  1469.449951  \n",
       "              1983        1343.365234  1711.137939  1342.599365  \n",
       "              1984        1323.417725  1469.450073  1348.143433  \n",
       "              1985        1711.137573  1342.599609  1400.806152  \n",
       "\n",
       "[5 rows x 116 columns]"
      ]
     },
     "execution_count": 3,
     "metadata": {},
     "output_type": "execute_result"
    }
   ],
   "source": [
    "df.head()"
   ]
  },
  {
   "cell_type": "markdown",
   "metadata": {},
   "source": [
    "#### Identification Strategy"
   ]
  },
  {
   "cell_type": "markdown",
   "metadata": {},
   "source": [
    "##### Motivation of IV approach <br>\n",
    "..."
   ]
  },
  {
   "cell_type": "markdown",
   "metadata": {},
   "source": [
    "##### Causal graph <br>\n",
    "..."
   ]
  },
  {
   "cell_type": "code",
   "execution_count": 4,
   "metadata": {},
   "outputs": [],
   "source": [
    "import pygraphviz as pgv\n",
    "from IPython.display import Image"
   ]
  },
  {
   "cell_type": "code",
   "execution_count": 5,
   "metadata": {},
   "outputs": [],
   "source": [
    "def get_graph():\n",
    "    g = pgv.AGraph(size='12,7', ratio='fill', resolution='300', rankdir='LR', directed='true')    \n",
    "    g.node_attr['width'] = '1.0'  \n",
    "    g.node_attr['fontsize'] = '35'  \n",
    "    g.edge_attr['penwidth'] = '1'\n",
    "    g.node_attr['style']='filled'\n",
    "    g.node_attr['fillcolor']='black'    \n",
    "    return g\n",
    "\n",
    "def wrapping_up(g, fname):\n",
    "    g.draw(fname, prog=\"dot\")\n",
    "    return Image(fname)"
   ]
  },
  {
   "cell_type": "code",
   "execution_count": 6,
   "metadata": {},
   "outputs": [
    {
     "ename": "OSError",
     "evalue": "Format: \"png\" not recognized. Use one of:\r\n",
     "output_type": "error",
     "traceback": [
      "\u001b[1;31m---------------------------------------------------------------------------\u001b[0m",
      "\u001b[1;31mOSError\u001b[0m                                   Traceback (most recent call last)",
      "\u001b[1;32m<ipython-input-6-3c141c66f4b0>\u001b[0m in \u001b[0;36m<module>\u001b[1;34m\u001b[0m\n\u001b[0;32m     17\u001b[0m \u001b[0mg\u001b[0m\u001b[1;33m.\u001b[0m\u001b[0madd_edge\u001b[0m\u001b[1;33m(\u001b[0m\u001b[1;34m'T'\u001b[0m\u001b[1;33m,\u001b[0m \u001b[1;34m'D'\u001b[0m\u001b[1;33m)\u001b[0m\u001b[1;33m\u001b[0m\u001b[1;33m\u001b[0m\u001b[0m\n\u001b[0;32m     18\u001b[0m \u001b[1;33m\u001b[0m\u001b[0m\n\u001b[1;32m---> 19\u001b[1;33m \u001b[0mwrapping_up\u001b[0m\u001b[1;33m(\u001b[0m\u001b[0mg\u001b[0m\u001b[1;33m,\u001b[0m \u001b[1;34m'fig-observed-confounding-variable.png'\u001b[0m \u001b[1;33m)\u001b[0m\u001b[1;33m\u001b[0m\u001b[1;33m\u001b[0m\u001b[0m\n\u001b[0m",
      "\u001b[1;32m<ipython-input-5-ffdf6a893adc>\u001b[0m in \u001b[0;36mwrapping_up\u001b[1;34m(g, fname)\u001b[0m\n\u001b[0;32m      9\u001b[0m \u001b[1;33m\u001b[0m\u001b[0m\n\u001b[0;32m     10\u001b[0m \u001b[1;32mdef\u001b[0m \u001b[0mwrapping_up\u001b[0m\u001b[1;33m(\u001b[0m\u001b[0mg\u001b[0m\u001b[1;33m,\u001b[0m \u001b[0mfname\u001b[0m\u001b[1;33m)\u001b[0m\u001b[1;33m:\u001b[0m\u001b[1;33m\u001b[0m\u001b[1;33m\u001b[0m\u001b[0m\n\u001b[1;32m---> 11\u001b[1;33m     \u001b[0mg\u001b[0m\u001b[1;33m.\u001b[0m\u001b[0mdraw\u001b[0m\u001b[1;33m(\u001b[0m\u001b[0mfname\u001b[0m\u001b[1;33m,\u001b[0m \u001b[0mprog\u001b[0m\u001b[1;33m=\u001b[0m\u001b[1;34m\"dot\"\u001b[0m\u001b[1;33m)\u001b[0m\u001b[1;33m\u001b[0m\u001b[1;33m\u001b[0m\u001b[0m\n\u001b[0m\u001b[0;32m     12\u001b[0m     \u001b[1;32mreturn\u001b[0m \u001b[0mImage\u001b[0m\u001b[1;33m(\u001b[0m\u001b[0mfname\u001b[0m\u001b[1;33m)\u001b[0m\u001b[1;33m\u001b[0m\u001b[1;33m\u001b[0m\u001b[0m\n",
      "\u001b[1;32m~\\Anaconda3\\lib\\site-packages\\pygraphviz\\agraph.py\u001b[0m in \u001b[0;36mdraw\u001b[1;34m(self, path, format, prog, args)\u001b[0m\n\u001b[0;32m   1513\u001b[0m             \u001b[0margs\u001b[0m \u001b[1;33m=\u001b[0m \u001b[1;34m' '\u001b[0m\u001b[1;33m.\u001b[0m\u001b[0mjoin\u001b[0m\u001b[1;33m(\u001b[0m\u001b[1;33m[\u001b[0m\u001b[0margs\u001b[0m\u001b[1;33m,\u001b[0m \u001b[1;34m\"-T\"\u001b[0m \u001b[1;33m+\u001b[0m \u001b[0mformat\u001b[0m\u001b[1;33m]\u001b[0m\u001b[1;33m)\u001b[0m\u001b[1;33m\u001b[0m\u001b[1;33m\u001b[0m\u001b[0m\n\u001b[0;32m   1514\u001b[0m \u001b[1;33m\u001b[0m\u001b[0m\n\u001b[1;32m-> 1515\u001b[1;33m         \u001b[0mdata\u001b[0m \u001b[1;33m=\u001b[0m \u001b[0mself\u001b[0m\u001b[1;33m.\u001b[0m\u001b[0m_run_prog\u001b[0m\u001b[1;33m(\u001b[0m\u001b[0mprog\u001b[0m\u001b[1;33m,\u001b[0m \u001b[0margs\u001b[0m\u001b[1;33m)\u001b[0m\u001b[1;33m\u001b[0m\u001b[1;33m\u001b[0m\u001b[0m\n\u001b[0m\u001b[0;32m   1516\u001b[0m \u001b[1;33m\u001b[0m\u001b[0m\n\u001b[0;32m   1517\u001b[0m         \u001b[1;32mif\u001b[0m \u001b[0mpath\u001b[0m \u001b[1;32mis\u001b[0m \u001b[1;32mnot\u001b[0m \u001b[1;32mNone\u001b[0m\u001b[1;33m:\u001b[0m\u001b[1;33m\u001b[0m\u001b[1;33m\u001b[0m\u001b[0m\n",
      "\u001b[1;32m~\\Anaconda3\\lib\\site-packages\\pygraphviz\\agraph.py\u001b[0m in \u001b[0;36m_run_prog\u001b[1;34m(self, prog, args)\u001b[0m\n\u001b[0;32m   1362\u001b[0m \u001b[1;33m\u001b[0m\u001b[0m\n\u001b[0;32m   1363\u001b[0m         \u001b[1;32mif\u001b[0m \u001b[1;32mnot\u001b[0m \u001b[0mdata\u001b[0m\u001b[1;33m:\u001b[0m\u001b[1;33m\u001b[0m\u001b[1;33m\u001b[0m\u001b[0m\n\u001b[1;32m-> 1364\u001b[1;33m             \u001b[1;32mraise\u001b[0m \u001b[0mIOError\u001b[0m\u001b[1;33m(\u001b[0m\u001b[1;34mb\"\"\u001b[0m\u001b[1;33m.\u001b[0m\u001b[0mjoin\u001b[0m\u001b[1;33m(\u001b[0m\u001b[0merrors\u001b[0m\u001b[1;33m)\u001b[0m\u001b[1;33m.\u001b[0m\u001b[0mdecode\u001b[0m\u001b[1;33m(\u001b[0m\u001b[0mself\u001b[0m\u001b[1;33m.\u001b[0m\u001b[0mencoding\u001b[0m\u001b[1;33m)\u001b[0m\u001b[1;33m)\u001b[0m\u001b[1;33m\u001b[0m\u001b[1;33m\u001b[0m\u001b[0m\n\u001b[0m\u001b[0;32m   1365\u001b[0m \u001b[1;33m\u001b[0m\u001b[0m\n\u001b[0;32m   1366\u001b[0m         \u001b[1;32mif\u001b[0m \u001b[0mlen\u001b[0m\u001b[1;33m(\u001b[0m\u001b[0merrors\u001b[0m\u001b[1;33m)\u001b[0m \u001b[1;33m>\u001b[0m \u001b[1;36m0\u001b[0m\u001b[1;33m:\u001b[0m\u001b[1;33m\u001b[0m\u001b[1;33m\u001b[0m\u001b[0m\n",
      "\u001b[1;31mOSError\u001b[0m: Format: \"png\" not recognized. Use one of:\r\n"
     ]
    }
   ],
   "source": [
    "g = get_graph()\n",
    "\n",
    "g.add_node('Y', xlabel='Institutions')\n",
    "g.add_node('D', xlabel='Income per capita')\n",
    "g.add_node('Z', xlabel='Rainfall')\n",
    "g.add_node('U', xlabel='Unobservables', fillcolor='white')\n",
    "g.add_node('C', xlabel='Country')\n",
    "g.add_node('T', xlabel='Year')\n",
    "\n",
    "g.add_edge('D', 'Y')\n",
    "g.add_edge('Z', 'D')\n",
    "g.add_edge('U', 'D')\n",
    "g.add_edge('U', 'Y')\n",
    "g.add_edge('C', 'Y')\n",
    "g.add_edge('C', 'D')\n",
    "g.add_edge('T', 'Y')\n",
    "g.add_edge('T', 'D')\n",
    "\n",
    "wrapping_up(g, 'fig-observed-confounding-variable.png' )"
   ]
  },
  {
   "cell_type": "markdown",
   "metadata": {},
   "source": [
    "##### Threats to identification\n",
    "\n",
    "* Violation exogeneity assumption <br>\n",
    "If the instrument has a direct causal effect on the outcome, the researcher cannot recover the causal effect of interest. In terms of the causal graph, there exists an unblocked backdoor path from the treatment to the outcome through the instrument ($D \\leftarrow Z \\rightarrow Y$). A plausible direct effect may be given when institutions would become more democratic following the event of droughts. The call for democratic goverance of water resources has been made in Egypt and Tunisia for instance [SOURCE].\n",
    "\n",
    "* Threats to exclusive restriction <br>\n",
    "Identification of the causal effect of income shocks on democracy scores is not possible if the instrument has an indirect effect on democracy scores through an unobservable. The resulting backdoor path cannot be blocked and identifying the causal effect fails.\n",
    "\n",
    "* Weak instrument problem <br>\n",
    "**work here** It is required that the instrument indeed causes variation in the treatment variable. A weak correlation leads to trouble in the IV estimator. In this case: when agriculture / GDP share is small, negative rainfall shocks may not have large effects on GPD (per capita). First stage informs us, but heterogeneity in agriculture shares among countries\n",
    "\n",
    "* A note on the interpretation of causal effect <br>\n",
    "**work here** The identification of the causal effect of negative transitory income shocks on improvements of Polity scores is threatened if negative rainfall shocks affect Polity scores by decreasing citizens cost of contesting power not only through income but through other channels, too. The authors mention two potential channels. First, if road floodings vanish in aftermath of a drought, cost of transport and coordination of political protest would decrease. Second, Cekan (1993) finds evidence that young men are more likely to be sent to urban areas in times of drought which may decrease coordination cost of contesting power. In these cases, it is still possible to assess the impact of rainfall shocks on Polity scores but the interpretation of the causal effect does not withstand. That is, it cannot be argued that improvements in Polity scores are due to negative income shocks."
   ]
  },
  {
   "cell_type": "code",
   "execution_count": 7,
   "metadata": {},
   "outputs": [
    {
     "data": {
      "image/png": "[encoded data removed]",
      "text/plain": [
       "<Figure size 864x648 with 9 Axes>"
      ]
     },
     "metadata": {},
     "output_type": "display_data"
    }
   ],
   "source": [
    "#todo: randomly draw countries to be shown?\n",
    "sns.set()\n",
    "colors = ['#c33764', '#7d2648', '#9d3367', '#863169', '#742f6a', '#592c6c', '#3c296e', '#3c296e', '#1d2671']\n",
    "country_codes = [432, 434, 436, 437, 501, 510, 541, 553, 580]\n",
    "\n",
    "fig = plt.figure(figsize=[12,9])\n",
    "plt.suptitle('Reduced form relationship between instrument and outcome', y=0.94, fontsize=16)\n",
    "\n",
    "for i,country_code in enumerate(country_codes):\n",
    "    plt.subplot(3,3,i+1)\n",
    "    plt.plot(df.loc[(country_code,), 'polity2'], color=colors[i], label=df.loc[(country_code,1981), 'country'])\n",
    "    plt.ylim(bottom=df['polity2'].min(), top=10)\n",
    "    plt.legend(loc='best')\n",
    "    if i==0 or i==3 or i==6:\n",
    "        plt.ylabel('Polity 2 score')\n",
    "    if i==6 or i==7 or i==8:\n",
    "        plt.xlabel('Year')\n",
    "    \n",
    "    subset = df.loc[(country_code,),:]\n",
    "    subset = subset.loc[subset['dum_rain_20'] == 1]\n",
    "    for yr in subset.index:\n",
    "        plt.axvline(x=yr, ymin=0, ymax=1, color='#A9A9A9', linestyle='--')\n",
    "        "
   ]
  },
  {
   "cell_type": "markdown",
   "metadata": {},
   "source": [
    "#### Empirical Strategy"
   ]
  }
 ],
 "metadata": {
  "kernelspec": {
   "display_name": "Python 3",
   "language": "python",
   "name": "python3"
  },
  "language_info": {
   "codemirror_mode": {
    "name": "ipython",
    "version": 3
   },
   "file_extension": ".py",
   "mimetype": "text/x-python",
   "name": "python",
   "nbconvert_exporter": "python",
   "pygments_lexer": "ipython3",
   "version": "3.7.3"
  }
 },
 "nbformat": 4,
 "nbformat_minor": 2
}
